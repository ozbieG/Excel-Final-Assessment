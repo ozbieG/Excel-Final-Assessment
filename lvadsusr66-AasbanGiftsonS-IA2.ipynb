{
  "nbformat": 4,
  "nbformat_minor": 0,
  "metadata": {
    "colab": {
      "provenance": []
    },
    "kernelspec": {
      "name": "python3",
      "display_name": "Python 3"
    },
    "language_info": {
      "name": "python"
    }
  },
  "cells": [
    {
      "cell_type": "code",
      "execution_count": 54,
      "metadata": {
        "colab": {
          "base_uri": "https://localhost:8080/"
        },
        "id": "T9XG8atwA2O6",
        "outputId": "5a3bc757-d8a3-4228-ed50-2a3b2ecb191b"
      },
      "outputs": [
        {
          "output_type": "stream",
          "name": "stdout",
          "text": [
            "[[ 76.2195 149.685   29.07  ]\n",
            " [225.9045 105.2895 178.755 ]\n",
            " [126.9873 199.98    49.995 ]]\n"
          ]
        }
      ],
      "source": [
        "#Q1\n",
        "import numpy as np\n",
        "rgb_image = np.array([[[255,0,0],[0,255,0],[0,0,255]],[[255,255,0],[255,0,255],[0,255,255]],[[127,127,127],[200,200,200],[50,50,50]]])\n",
        "values = np.array([0.2989, 0.5870, 0.1140])\n",
        "grayscale = np.dot(rgb_image, values)\n",
        "print(grayscale)"
      ]
    },
    {
      "cell_type": "code",
      "source": [
        "#Q2\n",
        "def normalise(data):\n",
        "    mean = np.mean(data, axis=0)\n",
        "    std = np.std(data, axis=0)\n",
        "    normalized_data = (data - mean) / std\n",
        "    return normalized_data\n",
        "\n",
        "health_data = np.array([[30, 170, 70], [40, 180, 80], [25, 160, 60]])\n",
        "normalized_data = normalise(health_data)\n",
        "print(normalized_data)"
      ],
      "metadata": {
        "colab": {
          "base_uri": "https://localhost:8080/"
        },
        "id": "655f_9RODvnO",
        "outputId": "09717bb1-2c51-46fe-c690-30a131282286"
      },
      "execution_count": 5,
      "outputs": [
        {
          "output_type": "stream",
          "name": "stdout",
          "text": [
            "[[-0.26726124  0.          0.        ]\n",
            " [ 1.33630621  1.22474487  1.22474487]\n",
            " [-1.06904497 -1.22474487 -1.22474487]]\n"
          ]
        }
      ]
    },
    {
      "cell_type": "code",
      "source": [
        "#Q3\n",
        "sensor_data = np.array([[[255,0,0],[0,255,0],[0,0,255]],[[255,255,0],[255,0,255],[0,255,255]],[[127,127,127],[200,200,200],[50,50,50]]])\n",
        "combined_output = np.stack([sensor_data[0].flatten(),sensor_data[1].flatten(),sensor_data[2].flatten()])\n",
        "print(combined_output)"
      ],
      "metadata": {
        "colab": {
          "base_uri": "https://localhost:8080/"
        },
        "id": "h2TNZqdmEjbm",
        "outputId": "f6e65ac0-be66-4ac5-90f7-e45ebfb98ad5"
      },
      "execution_count": 9,
      "outputs": [
        {
          "output_type": "stream",
          "name": "stdout",
          "text": [
            "[[255   0   0   0 255   0   0   0 255]\n",
            " [255 255   0 255   0 255   0 255 255]\n",
            " [127 127 127 200 200 200  50  50  50]]\n"
          ]
        }
      ]
    },
    {
      "cell_type": "code",
      "source": [
        "#Q4\n",
        "sports_data = np.array([[30, 170, 200], [40, 180, 80], [25, 160, 20]])\n",
        "improvement = sports_data[:, -1] - sports_data[:, 0]\n",
        "print(improvement)"
      ],
      "metadata": {
        "colab": {
          "base_uri": "https://localhost:8080/"
        },
        "id": "EQEOmBpwFrbC",
        "outputId": "d35bd145-8e2b-4257-bc62-74710b48b787"
      },
      "execution_count": 10,
      "outputs": [
        {
          "output_type": "stream",
          "name": "stdout",
          "text": [
            "[170  40  -5]\n"
          ]
        }
      ]
    },
    {
      "cell_type": "code",
      "source": [
        "#Q5\n",
        "scores = np.array([[30, 170, 200], [40, -1, 80], [25, 160, -1]])\n",
        "import numpy as np\n",
        "averages = []\n",
        "for marks in scores.T:\n",
        "    average = np.mean(marks[marks != -1])\n",
        "    averages.append(average)\n",
        "print(averages)"
      ],
      "metadata": {
        "colab": {
          "base_uri": "https://localhost:8080/"
        },
        "id": "1y2NcuyLG89r",
        "outputId": "b51c5941-792c-4f07-d068-8c326178ef3c"
      },
      "execution_count": 17,
      "outputs": [
        {
          "output_type": "stream",
          "name": "stdout",
          "text": [
            "[31.666666666666668, 165.0, 140.0]\n"
          ]
        }
      ]
    },
    {
      "cell_type": "code",
      "source": [
        "#Q6\n",
        "climate_data = np.array([[30, 170, 200], [40, 180, 80], [25, 160, 20]])\n",
        "calibrations = np.array([2.3,4.2,5.1])\n",
        "\n",
        "def modify(climate_data, calibrations):\n",
        "    adjusted_data = climate_data * calibrations.reshape(-1, 1)\n",
        "    return adjusted_data\n",
        "\n",
        "adjusted_data = modify(climate_data, calibrations)\n",
        "print(adjusted_data)\n"
      ],
      "metadata": {
        "colab": {
          "base_uri": "https://localhost:8080/"
        },
        "id": "_yo01A_IH1A5",
        "outputId": "6d50520e-abb3-4df4-8c4f-102114dcc543"
      },
      "execution_count": 25,
      "outputs": [
        {
          "output_type": "stream",
          "name": "stdout",
          "text": [
            "[[ 69.  391.  460. ]\n",
            " [168.  756.  336. ]\n",
            " [127.5 816.  102. ]]\n"
          ]
        }
      ]
    },
    {
      "cell_type": "code",
      "source": [
        "#Q7\n",
        "import pandas as pd\n",
        "data = {\n",
        "    'Name' : ['Alice','Bob','Charlie','David','Eve','Frank','Grace'],\n",
        "    'Age'  : [25,30,35,40,45,50,55],\n",
        "    'City' : ['New York','Los Angeles','Chicago','Houston','Pheonix','Miami','Boston'],\n",
        "    'Department': ['HR','IT','Finance','Marketing','Sales','IT','HR']\n",
        "}\n",
        "df = pd.DataFrame(data)\n",
        "df = df[['Name', 'City']][df['Age'] > 45]\n",
        "df.set_index('Name', inplace=True)\n",
        "print(df)"
      ],
      "metadata": {
        "colab": {
          "base_uri": "https://localhost:8080/"
        },
        "id": "L92R9WjgJSVC",
        "outputId": "62001ec8-0da4-4b53-999c-54f1b5a889a6"
      },
      "execution_count": 35,
      "outputs": [
        {
          "output_type": "stream",
          "name": "stdout",
          "text": [
            "         City\n",
            "Name         \n",
            "Frank   Miami\n",
            "Grace  Boston\n"
          ]
        }
      ]
    },
    {
      "cell_type": "code",
      "source": [
        "#Q8\n",
        "df = pd.read_csv(\"supermarket.csv\")\n",
        "filtered_df = df[(df['Category'] == 'Fruit') & (df['Promotion'] == False) & (df['Price'] > df[df['Category'] == 'Fruit']['Price'].mean())]\n",
        "print(filtered_df)"
      ],
      "metadata": {
        "colab": {
          "base_uri": "https://localhost:8080/"
        },
        "id": "33iJ0Zd0Jbge",
        "outputId": "edca73f3-10a2-480b-dd70-3121be6a87ca"
      },
      "execution_count": 38,
      "outputs": [
        {
          "output_type": "stream",
          "name": "stdout",
          "text": [
            "        Product Category  Price  Promotion\n",
            "4  Elderberries    Fruit    4.0      False\n"
          ]
        }
      ]
    },
    {
      "cell_type": "code",
      "source": [
        "#9\n",
        "project_data = pd.read_csv('project_data.csv')\n",
        "employee_data = pd.read_csv('employee_data.csv')\n",
        "merged = employee_data.merge(project_data, on='Employee' ,how='left')\n",
        "merged.fillna('Not assigned', inplace=True)\n",
        "print(merged)"
      ],
      "metadata": {
        "colab": {
          "base_uri": "https://localhost:8080/"
        },
        "id": "vMqHLb1RL-Vi",
        "outputId": "cf049e14-03df-4f49-e281-ef46260ac088"
      },
      "execution_count": 52,
      "outputs": [
        {
          "output_type": "stream",
          "name": "stdout",
          "text": [
            "  Employee Department Manager       Project\n",
            "0    Alice         HR    John            P1\n",
            "1      Bob         IT  Rachel  Not assigned\n",
            "2  Charlie    Finance   Emily            P3\n",
            "3    David         IT  Rachel  Not assigned\n"
          ]
        }
      ]
    },
    {
      "cell_type": "code",
      "source": [
        "#10\n",
        "data = {'Department':['Electronics','Electronics','Clothing','Clothing','Home goods'],\n",
        "        'SalesPerson':['Alice','Bob','Charlie','David','Eve'],\n",
        "        'Sales':[70000,50000,30000,40000,60000]}\n",
        "df = pd.DataFrame(data)\n",
        "avg_salesperson = df.groupby(['Department', 'SalesPerson'])['Sales'].mean().reset_index()\n",
        "avg_department = avg_salesperson.groupby('Department')['Sales'].mean().reset_index()\n",
        "ranked_departments = avg_department.sort_values(by='Sales', ascending=False)\n",
        "print(ranked_departments)"
      ],
      "metadata": {
        "colab": {
          "base_uri": "https://localhost:8080/"
        },
        "id": "Wnl4OwWcN-EL",
        "outputId": "8fe45dd5-7bb3-4031-e7b0-bc24e3821b88"
      },
      "execution_count": 53,
      "outputs": [
        {
          "output_type": "stream",
          "name": "stdout",
          "text": [
            "    Department    Sales\n",
            "1  Electronics  60000.0\n",
            "2   Home goods  60000.0\n",
            "0     Clothing  35000.0\n"
          ]
        }
      ]
    },
    {
      "cell_type": "code",
      "source": [],
      "metadata": {
        "id": "tlA-BaF6PwhK"
      },
      "execution_count": null,
      "outputs": []
    }
  ]
}